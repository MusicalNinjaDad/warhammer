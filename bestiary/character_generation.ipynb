{
 "cells": [
  {
   "cell_type": "code",
   "execution_count": null,
   "id": "0",
   "metadata": {},
   "outputs": [],
   "source": [
    "from wfrp import NPCs, Warhammer, beasts, careers  # noqa: F401"
   ]
  },
  {
   "cell_type": "code",
   "execution_count": null,
   "id": "1",
   "metadata": {},
   "outputs": [],
   "source": [
    "display(beasts.Human())\n",
    "display(NPCs.Noble())\n",
    "display(careers.Noble.Noble__Rank_5_Elector__Grand_Duke_Grand_Prince_NPCs_only)\n",
    "guy = NPCs.Noble() + careers.Noble.Noble__Rank_5_Elector__Grand_Duke_Grand_Prince_NPCs_only\n",
    "guy"
   ]
  }
 ],
 "metadata": {
  "kernelspec": {
   "display_name": ".venv",
   "language": "python",
   "name": "python3"
  },
  "language_info": {
   "codemirror_mode": {
    "name": "ipython",
    "version": 3
   },
   "file_extension": ".py",
   "mimetype": "text/x-python",
   "name": "python",
   "nbconvert_exporter": "python",
   "pygments_lexer": "ipython3",
   "version": "3.13.2"
  }
 },
 "nbformat": 4,
 "nbformat_minor": 5
}
