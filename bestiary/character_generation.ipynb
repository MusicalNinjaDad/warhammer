{
 "cells": [
  {
   "cell_type": "code",
   "execution_count": null,
   "id": "0",
   "metadata": {},
   "outputs": [],
   "source": [
    "from IPython.display import Markdown\n",
    "\n",
    "from wfrp import NPCs, Warhammer, beasts, careers  # noqa: F401\n"
   ]
  },
  {
   "cell_type": "code",
   "execution_count": null,
   "id": "1",
   "metadata": {},
   "outputs": [],
   "source": [
    "guy = NPCs.Noble() - careers.Noble.Noble__Rank_1_Knight_Lord_Lady + careers.Noble.Noble__Rank_5_Elector__Grand_Duke_Grand_Prince_NPCs_only\n",
    "display(Markdown(\"## Guy de Caucy\"))\n",
    "guy"
   ]
  },
  {
   "cell_type": "code",
   "execution_count": null,
   "id": "2",
   "metadata": {},
   "outputs": [],
   "source": [
    "display(Markdown(\"## First Opponent - Lucien Marinier\"))\n",
    "beasts.Soldiers.The_Imperial_Guard.Cavalryman()"
   ]
  },
  {
   "cell_type": "code",
   "execution_count": null,
   "id": "3",
   "metadata": {},
   "outputs": [],
   "source": [
    "display(Markdown(\"## Second Opponent - Bertram Garamont\"))\n",
    "display(beasts.Soldiers.The_Imperial_Guard.Cavalry_Officer())"
   ]
  },
  {
   "cell_type": "code",
   "execution_count": null,
   "id": "4",
   "metadata": {},
   "outputs": [],
   "source": [
    "beasts.Horse()"
   ]
  },
  {
   "cell_type": "code",
   "execution_count": null,
   "id": "5",
   "metadata": {},
   "outputs": [],
   "source": [
    "beasts.Soldiers.The_Imperial_Guard.Cavalry_Officer()"
   ]
  }
 ],
 "metadata": {
  "kernelspec": {
   "display_name": ".venv",
   "language": "python",
   "name": "python3"
  },
  "language_info": {
   "codemirror_mode": {
    "name": "ipython",
    "version": 3
   },
   "file_extension": ".py",
   "mimetype": "text/x-python",
   "name": "python",
   "nbconvert_exporter": "python",
   "pygments_lexer": "ipython3",
   "version": "3.13.2"
  }
 },
 "nbformat": 4,
 "nbformat_minor": 5
}
