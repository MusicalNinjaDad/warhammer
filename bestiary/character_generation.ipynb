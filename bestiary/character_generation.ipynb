{
 "cells": [
  {
   "cell_type": "code",
   "execution_count": null,
   "id": "0",
   "metadata": {},
   "outputs": [],
   "source": [
    "from IPython.display import Markdown\n",
    "\n",
    "from wfrp import NPCs, Warhammer, beasts, careers  # noqa: F401\n",
    "from wfrp.beasts import Human\n"
   ]
  },
  {
   "cell_type": "code",
   "execution_count": null,
   "id": "1",
   "metadata": {},
   "outputs": [],
   "source": [
    "guy = NPCs.Noble() - careers.Noble.Noble__Rank_1_Knight_Lord_Lady + careers.Noble.Noble__Rank_5_Elector__Grand_Duke_Grand_Prince_NPCs_only\n",
    "display(Markdown(\"## Guy de Caucy\"))\n",
    "guy"
   ]
  },
  {
   "cell_type": "code",
   "execution_count": null,
   "id": "2",
   "metadata": {},
   "outputs": [],
   "source": [
    "display(Markdown(\"## First Opponent - Lucien Marinier\"))\n",
    "NPCs.Soldiers.The_Imperial_Guard.Cavalryman()"
   ]
  },
  {
   "cell_type": "code",
   "execution_count": null,
   "id": "3",
   "metadata": {},
   "outputs": [],
   "source": [
    "display(Markdown(\"## Second Opponent - Bertram Garamont\"))\n",
    "display(NPCs.Soldiers.The_Imperial_Guard.Cavalry_Officer())"
   ]
  },
  {
   "cell_type": "code",
   "execution_count": null,
   "id": "4",
   "metadata": {},
   "outputs": [],
   "source": [
    "beasts.Horse()"
   ]
  },
  {
   "cell_type": "code",
   "execution_count": null,
   "id": "5",
   "metadata": {},
   "outputs": [],
   "source": [
    "NPCs.Soldiers.The_Imperial_Guard.Cavalry_Officer()"
   ]
  },
  {
   "cell_type": "code",
   "execution_count": null,
   "id": "6",
   "metadata": {},
   "outputs": [],
   "source": [
    "# Clement (the \"Bear\") de Ours-Montagne\n",
    "\n",
    "# beasts.Human() + (careers.Bounty_Hunter | careers.Bodyguard | careers.Mercenary_Captain)\n",
    "beasts.Human() + (\n",
    "    careers.Bounty_Hunter\n",
    "    | careers.Bodyguard\n",
    "    | careers.Mercenary_Captain.Sergeant_Advance_Scheme\n",
    "    | careers.Mercenary_Captain.Captain_Advance_Scheme\n",
    ")"
   ]
  },
  {
   "cell_type": "code",
   "execution_count": null,
   "id": "7",
   "metadata": {},
   "outputs": [],
   "source": [
    "## Fourth Round - Alice-Marie de Ours-Bas\n",
    "\n",
    "Human() + (careers.Noble.Noble__Rank_3_Count | careers.Soldier | careers.Templar)"
   ]
  }
 ],
 "metadata": {
  "kernelspec": {
   "display_name": ".venv",
   "language": "python",
   "name": "python3"
  },
  "language_info": {
   "codemirror_mode": {
    "name": "ipython",
    "version": 3
   },
   "file_extension": ".py",
   "mimetype": "text/x-python",
   "name": "python",
   "nbconvert_exporter": "python",
   "pygments_lexer": "ipython3",
   "version": "3.13.2"
  }
 },
 "nbformat": 4,
 "nbformat_minor": 5
}
